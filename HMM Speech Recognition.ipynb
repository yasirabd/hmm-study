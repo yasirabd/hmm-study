{
 "cells": [
  {
   "cell_type": "code",
   "execution_count": 1,
   "metadata": {},
   "outputs": [],
   "source": [
    "import numpy as np\n",
    "import pandas as pd"
   ]
  },
  {
   "cell_type": "code",
   "execution_count": 2,
   "metadata": {},
   "outputs": [],
   "source": [
    "# initialization\n",
    "A = np.array([[0.47468, 0.52532], [0.51656, 0.48344]])\n",
    "# B = np.array([[0.1, 0.4, 0.5], [0.6, 0.3, 0.1]])\n",
    "PI = np.array([0.51316, 0.48684])\n",
    "T = 1536 # length of observation sequence\n",
    "N = 2 # number of states in model\n",
    "M = 30 # number of observations model\n",
    "# V = {1, 2, 3} # set of possible observations\n",
    "# O = np.array([2, 2, 3, 1, 3, 2])"
   ]
  },
  {
   "cell_type": "code",
   "execution_count": 3,
   "metadata": {},
   "outputs": [],
   "source": [
    "def calcAlphaBeta(A, B, O, PI, T, N):\n",
    "    # initialization ALPHA\n",
    "    c = np.zeros((T))\n",
    "    alpha = np.zeros((T, N))\n",
    "    for i in range(N):\n",
    "        alpha[0,i] = PI[i]*B[i,O[0]-1]\n",
    "        c[0] = c[0] + alpha[0,i]\n",
    "        \n",
    "    # scale alpha1\n",
    "    c[0] = 1/c[0]\n",
    "    for i in range(N):\n",
    "        alpha[0,i] = c[0]*alpha[0,i]\n",
    "    \n",
    "    # induction\n",
    "    for t in range(T-1):\n",
    "        c[t+1] = 0\n",
    "        for j in range(N):\n",
    "            alpha[t+1,j] = 0\n",
    "            for i in range(N):\n",
    "                alpha[t+1,j] = alpha[t+1,j] + alpha[t,i] * A[i,j]\n",
    "            alpha[t+1,j] = alpha[t+1,j] * B[j,O[t+1]-1]\n",
    "            c[t+1] = c[t+1] + alpha[t+1,j]\n",
    "        \n",
    "        # scale alpha\n",
    "        c[t+1] = 1/c[t+1]\n",
    "        for i in range(N):\n",
    "            alpha[t+1,i] = c[t+1] * alpha[t+1,i]\n",
    "            \n",
    "    # initialization BETA\n",
    "    beta = np.zeros((T, N))\n",
    "    for i in range(N):\n",
    "        beta[T,i] = c[T]\n",
    "        \n",
    "    # induction\n",
    "    for t in range(T-2, -1, -1):\n",
    "        for i in range(N):\n",
    "            beta[t,i] = 0\n",
    "            for j in range(N):\n",
    "                beta[t,i] = beta[t,i] + A[i,j] * B[j,O[t+1]-1] * beta[t+1,j]\n",
    "            \n",
    "            # scale beta\n",
    "            beta[t,i] = c[t] * beta[t,i]\n",
    "    \n",
    "    return alpha, beta, c"
   ]
  },
  {
   "cell_type": "code",
   "execution_count": 4,
   "metadata": {},
   "outputs": [],
   "source": [
    "def calcLogP(T, c):\n",
    "    logp = 0\n",
    "    for i in range(T):\n",
    "        logp = logp + np.log(c[i])\n",
    "    \n",
    "    return -logp"
   ]
  },
  {
   "cell_type": "code",
   "execution_count": 5,
   "metadata": {},
   "outputs": [],
   "source": [
    "def calcGammaDigamma(alpha, beta, T, N, A, B, O):\n",
    "    gamma = np.zeros((T, N))\n",
    "    di_gamma = np.zeros((T-1, N, N))\n",
    "    for t in range(T):\n",
    "        denom = 0\n",
    "        for i in range(N):\n",
    "            for j in range(N):\n",
    "                denom = denom + alpha[t,i] * A[i,j] * B[j,O[t+1]-1] * beta[t+1,j]\n",
    "        \n",
    "        for i in range(N):\n",
    "            gamma[t,i] = 0\n",
    "            for j in range(N):\n",
    "                di_gamma[t,i,j] = (alpha[t,i] * A[i,j] * B[j,O[t+1]-1] * beta[t+1,j])/denom\n",
    "                gamma[t,i] = gamma[t,i] + di_gamma[t,i,j]\n",
    "    \n",
    "    return gamma, di_gamma"
   ]
  },
  {
   "cell_type": "code",
   "execution_count": 6,
   "metadata": {},
   "outputs": [],
   "source": [
    "def reEstimate(gamma, di_gamma, T, N, M, O):\n",
    "    # re-estimate PI\n",
    "    PI1 = np.zeros((N))\n",
    "    for i in range(N):\n",
    "        PI1[i] = gamma[0,i]\n",
    "\n",
    "    # re-estimate A\n",
    "    a = np.zeros((N, N))\n",
    "    for i in range(N):\n",
    "        for j in range(N):\n",
    "            num = 0\n",
    "            den = 0\n",
    "            for t in range(T-1):\n",
    "                num = num + di_gamma[t,i,j]\n",
    "                den = den + gamma[t,i]\n",
    "            a[i,j] = num/den\n",
    "        \n",
    "    # re-estimate B\n",
    "    b = np.zeros((N, M))\n",
    "    for j in range(N):\n",
    "        for k in range(M):\n",
    "            num = 0\n",
    "            den = 0\n",
    "            for t in range(T-1):\n",
    "                if O[t]-1 == k:\n",
    "                    num = num + gamma[t,j]\n",
    "                den = den + gamma[t,j]\n",
    "            b[j,k] = num/den\n",
    "            \n",
    "    return a, b, PI1"
   ]
  },
  {
   "cell_type": "code",
   "execution_count": 7,
   "metadata": {},
   "outputs": [],
   "source": [
    "def prob(A, B, PI, O, T, N, M):\n",
    "    maxIter = 200\n",
    "    iteration = 0\n",
    "    old_logp = 0\n",
    "    logp = np.log(0)\n",
    "    while 1:\n",
    "        iter = iter + 1\n",
    "        alpha, beta, c = calcAlphaBeta(A, B, O, PI, T, N)\n",
    "        gamma, di_gamma = calcGammaDigamma(alpha, beta, T, N, A, B, O)\n",
    "        old_logp = logp\n",
    "        logp = calcLogP(T, c)\n",
    "        a, b, PI1 = reEstimate(gamma, di_gamma, T, N, M, O)\n",
    "        A, B, PI = a, b, PI1\n",
    "        if logp <= old_logp or iteration == maxIter:\n",
    "            break\n",
    "    return A, B, PI, logp"
   ]
  },
  {
   "cell_type": "code",
   "execution_count": null,
   "metadata": {},
   "outputs": [],
   "source": []
  }
 ],
 "metadata": {
  "kernelspec": {
   "display_name": "Python 3",
   "language": "python",
   "name": "python3"
  },
  "language_info": {
   "codemirror_mode": {
    "name": "ipython",
    "version": 3
   },
   "file_extension": ".py",
   "mimetype": "text/x-python",
   "name": "python",
   "nbconvert_exporter": "python",
   "pygments_lexer": "ipython3",
   "version": "3.6.5"
  }
 },
 "nbformat": 4,
 "nbformat_minor": 2
}
