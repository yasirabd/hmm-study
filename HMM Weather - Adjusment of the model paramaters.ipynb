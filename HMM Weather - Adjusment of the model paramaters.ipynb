{
 "cells": [
  {
   "cell_type": "code",
   "execution_count": 1,
   "metadata": {},
   "outputs": [],
   "source": [
    "import numpy as np\n",
    "import pandas as pd"
   ]
  },
  {
   "cell_type": "code",
   "execution_count": 2,
   "metadata": {},
   "outputs": [],
   "source": [
    "# initialization\n",
    "A = np.array([[0.7, 0.3], [0.4, 0.6]])\n",
    "B = np.array([[0.1, 0.4, 0.5], [0.6, 0.3, 0.1]])\n",
    "PI = np.array([0.6, 0.4])\n",
    "T = 6 # length of observation sequence\n",
    "N = 2 # number of states in model\n",
    "M = 3 # number of observations model\n",
    "V = {1, 2, 3} # set of possible observations\n",
    "O = np.array([2, 2, 3, 1, 3, 2])"
   ]
  },
  {
   "cell_type": "code",
   "execution_count": 3,
   "metadata": {},
   "outputs": [],
   "source": [
    "def calcAlpha(A, B, O, PI, T, N):\n",
    "    # initialization\n",
    "    alpha = np.zeros((T, N))\n",
    "    for i in range(N):\n",
    "        alpha[0, i] = PI[i]*B[i, O[0]-1]\n",
    "        \n",
    "    # induction\n",
    "    for t in range(T-1):\n",
    "        for j in range(N):\n",
    "            u = 0\n",
    "            for i in range(N):\n",
    "                u = u + alpha[t,i]*A[i,j]\n",
    "            alpha[t+1, j] = u*B[j, O[t+1]-1]\n",
    "    return alpha"
   ]
  },
  {
   "cell_type": "code",
   "execution_count": 4,
   "metadata": {},
   "outputs": [],
   "source": [
    "def calcP(alpha, T, N):\n",
    "    p = 0\n",
    "    for i in range(N):\n",
    "        p = p + alpha[T-1, i]\n",
    "    return p"
   ]
  },
  {
   "cell_type": "code",
   "execution_count": 5,
   "metadata": {},
   "outputs": [],
   "source": [
    "def calcBeta(A, B, O, N, T):\n",
    "    # initialization\n",
    "    beta = np.zeros((T, N))\n",
    "    for i in range(N):\n",
    "        beta[T-1, i] = 1\n",
    "    \n",
    "    # induction\n",
    "    for t in range(T-2, -1, -1):\n",
    "        for i in range(N):\n",
    "            for j in range(N):\n",
    "                beta[t, i] = beta[t,i]+A[i,j]*B[j, O[t+1]-1]*beta[t+1,j]\n",
    "    return beta"
   ]
  },
  {
   "cell_type": "code",
   "execution_count": 6,
   "metadata": {},
   "outputs": [],
   "source": [
    "def calcGamma(alpha, beta, p, T, N):\n",
    "    gamma = np.zeros((T, N))\n",
    "    for t in range(T):\n",
    "        for i in range(N):\n",
    "            gamma[t, i] = alpha[t, i]*beta[t, i]/p\n",
    "    return gamma"
   ]
  },
  {
   "cell_type": "code",
   "execution_count": 7,
   "metadata": {},
   "outputs": [],
   "source": [
    "def calcDiGamma(alpha, beta, A, B, O, p, N, T):\n",
    "    di_gamma = np.zeros((T-1, N, N))\n",
    "    for t in range(T-1):\n",
    "        for i in range(N):\n",
    "            for j in range(N):\n",
    "                di_gamma[t,i,j] = (alpha[t,i]*A[i,j]*B[j,O[t+1]-1]*beta[t+1,j])/p\n",
    "    return di_gamma"
   ]
  },
  {
   "cell_type": "code",
   "execution_count": 8,
   "metadata": {},
   "outputs": [],
   "source": [
    "def reEstimate(gamma, di_gamma, T, N, M, O):\n",
    "    # re-estimate PI\n",
    "    PI1 = np.zeros((N))\n",
    "    for i in range(N):\n",
    "        PI1[i] = gamma[0,i]\n",
    "\n",
    "    # re-estimate A\n",
    "    a = np.zeros((N, N))\n",
    "    for i in range(N):\n",
    "        for j in range(N):\n",
    "            num = 0\n",
    "            den = 0\n",
    "            for t in range(T-1):\n",
    "                num = num + di_gamma[t,i,j]\n",
    "                den = den + gamma[t,i]\n",
    "            a[i,j] = num/den\n",
    "        \n",
    "    # re-estimate B\n",
    "    b = np.zeros((N, M))\n",
    "    for j in range(N):\n",
    "        for k in range(M):\n",
    "            num = 0\n",
    "            den = 0\n",
    "            for t in range(T-1):\n",
    "                if O[t]-1 == k:\n",
    "                    num = num + gamma[t,j]\n",
    "                den = den + gamma[t,j]\n",
    "            b[j,k] = num/den\n",
    "            \n",
    "    return a, b, PI1"
   ]
  },
  {
   "cell_type": "code",
   "execution_count": 9,
   "metadata": {},
   "outputs": [],
   "source": [
    "def prob3(A, B, PI, O, T, N, M):\n",
    "    p = 0\n",
    "    p_temp = 1\n",
    "    while p < p_temp:\n",
    "        alpha = calcAlpha(A, B, O, PI, T, N)\n",
    "        p = calcP(alpha, T, N)\n",
    "        beta = calcBeta(A, B, O, N, T)\n",
    "        gamma = calcGamma(alpha, beta, p, T, N)\n",
    "        di_gamma = calcDiGamma(alpha, beta, A, B, O, p, N, T)\n",
    "        a, b, PI1 = reEstimate(gamma, di_gamma, T, N, M, O)\n",
    "#         print('a:', a,'\\n\\n', 'b:', b, '\\n\\n', 'pi:', PI1, '\\n\\n')\n",
    "        p_temp = calcP(calcAlpha(a, b, O, PI1, T, N), T, N)\n",
    "        A = a\n",
    "        B = b\n",
    "        PI = PI1\n",
    "\n",
    "    return A, B, PI, p_temp"
   ]
  },
  {
   "cell_type": "code",
   "execution_count": 10,
   "metadata": {},
   "outputs": [],
   "source": [
    "A, B, PI, p_temp = prob3(A, B, PI, O, T, N, M)"
   ]
  },
  {
   "cell_type": "code",
   "execution_count": 11,
   "metadata": {},
   "outputs": [
    {
     "name": "stdout",
     "output_type": "stream",
     "text": [
      "[[5.05930855e-17 1.00000000e+00]\n",
      " [1.00000000e+00 0.00000000e+00]]\n"
     ]
    }
   ],
   "source": [
    "print(A)"
   ]
  },
  {
   "cell_type": "code",
   "execution_count": 12,
   "metadata": {},
   "outputs": [
    {
     "name": "stdout",
     "output_type": "stream",
     "text": [
      "[[0.         0.33333333 0.66666667]\n",
      " [0.5        0.5        0.        ]]\n"
     ]
    }
   ],
   "source": [
    "print(B)"
   ]
  },
  {
   "cell_type": "code",
   "execution_count": 13,
   "metadata": {},
   "outputs": [
    {
     "name": "stdout",
     "output_type": "stream",
     "text": [
      "[1.00000000e+000 6.07653686e-199]\n"
     ]
    }
   ],
   "source": [
    "print(PI)"
   ]
  },
  {
   "cell_type": "code",
   "execution_count": 14,
   "metadata": {},
   "outputs": [
    {
     "name": "stdout",
     "output_type": "stream",
     "text": [
      "0.01851851851851851\n"
     ]
    }
   ],
   "source": [
    "print(p_temp)"
   ]
  },
  {
   "cell_type": "code",
   "execution_count": null,
   "metadata": {},
   "outputs": [],
   "source": []
  }
 ],
 "metadata": {
  "kernelspec": {
   "display_name": "Python 3",
   "language": "python",
   "name": "python3"
  },
  "language_info": {
   "codemirror_mode": {
    "name": "ipython",
    "version": 3
   },
   "file_extension": ".py",
   "mimetype": "text/x-python",
   "name": "python",
   "nbconvert_exporter": "python",
   "pygments_lexer": "ipython3",
   "version": "3.6.5"
  }
 },
 "nbformat": 4,
 "nbformat_minor": 2
}
