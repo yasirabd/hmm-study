{
 "cells": [
  {
   "cell_type": "code",
   "execution_count": 1,
   "metadata": {},
   "outputs": [],
   "source": [
    "import numpy as np\n",
    "import pandas as pd\n",
    "import networkx as nx\n",
    "import matplotlib.pyplot as plt\n",
    "%matplotlib inline"
   ]
  },
  {
   "cell_type": "code",
   "execution_count": 2,
   "metadata": {},
   "outputs": [],
   "source": [
    "T = 6 # length of observation sequence\n",
    "N = 2 # number of states in model\n",
    "M = 3 # number of observations model\n",
    "V = {1, 2, 3} # set of possible observations"
   ]
  },
  {
   "cell_type": "markdown",
   "metadata": {},
   "source": [
    "# States"
   ]
  },
  {
   "cell_type": "code",
   "execution_count": 3,
   "metadata": {},
   "outputs": [
    {
     "name": "stdout",
     "output_type": "stream",
     "text": [
      "rainy    0.6\n",
      "sunny    0.4\n",
      "Name: states, dtype: float64\n",
      "1.0\n"
     ]
    }
   ],
   "source": [
    "# create space and initial state probabilities\n",
    "states = ['rainy', 'sunny']\n",
    "pi = [0.6, 0.4]\n",
    "\n",
    "state_space = pd.Series(pi, index=states, name='states')\n",
    "print(state_space)\n",
    "print(state_space.sum())"
   ]
  },
  {
   "cell_type": "markdown",
   "metadata": {},
   "source": [
    "# Transition Matrix"
   ]
  },
  {
   "cell_type": "code",
   "execution_count": 4,
   "metadata": {},
   "outputs": [
    {
     "name": "stdout",
     "output_type": "stream",
     "text": [
      "      rainy sunny\n",
      "rainy   0.7   0.3\n",
      "sunny   0.4   0.6\n",
      "\n",
      " [[0.7 0.3]\n",
      " [0.4 0.6]] (2, 2) \n",
      "\n",
      "rainy    1.0\n",
      "sunny    1.0\n",
      "dtype: float64\n"
     ]
    }
   ],
   "source": [
    "# create transition matrix\n",
    "\n",
    "a_df = pd.DataFrame(columns=states, index=states)\n",
    "a_df.loc[states[0]] = [0.7, 0.3]\n",
    "a_df.loc[states[1]] = [0.4, 0.6]\n",
    "\n",
    "print(a_df)\n",
    "\n",
    "A = a_df.values\n",
    "print('\\n', A, A.shape, '\\n')\n",
    "print(a_df.sum(axis=1))"
   ]
  },
  {
   "cell_type": "markdown",
   "metadata": {},
   "source": [
    "# Emision Matrix"
   ]
  },
  {
   "cell_type": "code",
   "execution_count": 5,
   "metadata": {},
   "outputs": [
    {
     "name": "stdout",
     "output_type": "stream",
     "text": [
      "      walk shop clean\n",
      "rainy  0.1  0.4   0.5\n",
      "sunny  0.6  0.3   0.1\n",
      "\n",
      " [[0.1 0.4 0.5]\n",
      " [0.6 0.3 0.1]] (2, 3) \n",
      "\n",
      "rainy    1.0\n",
      "sunny    1.0\n",
      "dtype: float64\n"
     ]
    }
   ],
   "source": [
    "emision = ['walk', 'shop', 'clean']\n",
    "b_df = pd.DataFrame(columns=emision, index=states)\n",
    "b_df.loc[states[0]] = [0.1, 0.4, 0.5]\n",
    "b_df.loc[states[1]] = [0.6, 0.3, 0.1]\n",
    "\n",
    "print(b_df)\n",
    "\n",
    "B = b_df.values\n",
    "print('\\n', B, B.shape, '\\n')\n",
    "print(b_df.sum(axis=1))"
   ]
  },
  {
   "cell_type": "markdown",
   "metadata": {},
   "source": [
    "# 1. Computing Likelihoods"
   ]
  },
  {
   "cell_type": "code",
   "execution_count": 6,
   "metadata": {},
   "outputs": [],
   "source": [
    "O = [2, 2, 3, 1, 3, 2]"
   ]
  },
  {
   "cell_type": "code",
   "execution_count": 7,
   "metadata": {},
   "outputs": [
    {
     "name": "stdout",
     "output_type": "stream",
     "text": [
      "[[0.24 0.12]\n",
      " [ nan  nan]\n",
      " [ nan  nan]\n",
      " [ nan  nan]\n",
      " [ nan  nan]\n",
      " [ nan  nan]]\n"
     ]
    }
   ],
   "source": [
    "# initialization\n",
    "column_alpha = [i for i in range(N)]\n",
    "index_alpha = [i for i in range(T)]\n",
    "alpha = pd.DataFrame(np.nan, index=index_alpha, columns=column_alpha)\n",
    "alpha = alpha.values\n",
    "\n",
    "for i in range(N):\n",
    "    alpha[0,i] = pi[i] * B[i, O[0]-1]\n",
    "\n",
    "print(alpha)"
   ]
  },
  {
   "cell_type": "code",
   "execution_count": 8,
   "metadata": {},
   "outputs": [
    {
     "name": "stdout",
     "output_type": "stream",
     "text": [
      "[[0.24       0.12      ]\n",
      " [0.0864     0.0432    ]\n",
      " [0.03888    0.005184  ]\n",
      " [0.00292896 0.00886464]\n",
      " [0.00279806 0.00061975]\n",
      " [0.00088262 0.00036338]]\n"
     ]
    }
   ],
   "source": [
    "# induction\n",
    "for t in range(T-1):\n",
    "    for j in range(N):\n",
    "        u = 0\n",
    "        for i in range(N):\n",
    "            u = u + alpha[t,i]*A[i,j]\n",
    "        alpha[t+1, j] = u*B[j, O[t+1]-1]\n",
    "\n",
    "print(alpha)"
   ]
  },
  {
   "cell_type": "code",
   "execution_count": 9,
   "metadata": {},
   "outputs": [
    {
     "name": "stdout",
     "output_type": "stream",
     "text": [
      "0.001245997728\n"
     ]
    }
   ],
   "source": [
    "# evaluating the probability\n",
    "prob = 0\n",
    "for i in range(N):\n",
    "    prob = prob+alpha[T-1,i]\n",
    "\n",
    "print(prob)"
   ]
  },
  {
   "cell_type": "markdown",
   "metadata": {},
   "source": [
    "# 2. Decoding Hidden States"
   ]
  },
  {
   "cell_type": "markdown",
   "metadata": {},
   "source": [
    "## a. Dynamic Programming Solution"
   ]
  },
  {
   "cell_type": "code",
   "execution_count": 10,
   "metadata": {},
   "outputs": [],
   "source": [
    "p = np.zeros((2,)*6, dtype=np.float64)"
   ]
  },
  {
   "cell_type": "code",
   "execution_count": 11,
   "metadata": {},
   "outputs": [],
   "source": [
    "for i in range(N):\n",
    "    for j in range(N):\n",
    "        for k in range(N):\n",
    "            for l in range(N):\n",
    "                for m in range(N):\n",
    "                    for n in range(N):\n",
    "                        p[i,j,k,l,m,n] = pi[i]*B[i,O[0]-1]* \\\n",
    "                                         A[i,j]*B[j,O[1]-1]* \\\n",
    "                                         A[j,k]*B[k,O[2]-1]* \\\n",
    "                                         A[k,l]*B[l,O[3]-1]* \\\n",
    "                                         A[l,m]*B[m,O[4]-1]* \\\n",
    "                                         A[m,n]*B[n,O[5]-1]"
   ]
  },
  {
   "cell_type": "code",
   "execution_count": 12,
   "metadata": {},
   "outputs": [
    {
     "name": "stdout",
     "output_type": "stream",
     "text": [
      "[[7.838208e-06 5.038848e-06]\n",
      " [2.239488e-06 5.038848e-06]]\n"
     ]
    }
   ],
   "source": [
    "print(p[:,:,1,1,1,1])"
   ]
  },
  {
   "cell_type": "code",
   "execution_count": 13,
   "metadata": {},
   "outputs": [],
   "source": [
    "sumprob = 0\n",
    "for i in range(N):\n",
    "    for j in range(N):\n",
    "        for k in range(N):\n",
    "            for l in range(N):\n",
    "                for m in range(N):\n",
    "                    for n in range(N):\n",
    "                        sumprob = sumprob + p[i,j,k,l,m,n]"
   ]
  },
  {
   "cell_type": "code",
   "execution_count": 14,
   "metadata": {},
   "outputs": [
    {
     "name": "stdout",
     "output_type": "stream",
     "text": [
      "0.001245997728\n"
     ]
    }
   ],
   "source": [
    "print(sumprob)"
   ]
  },
  {
   "cell_type": "code",
   "execution_count": 15,
   "metadata": {},
   "outputs": [],
   "source": [
    "pnorm = np.zeros((2,)*6, dtype=np.float64)"
   ]
  },
  {
   "cell_type": "code",
   "execution_count": 16,
   "metadata": {},
   "outputs": [],
   "source": [
    "for i in range(N):\n",
    "    for j in range(N):\n",
    "        for k in range(N):\n",
    "            for l in range(N):\n",
    "                for m in range(N):\n",
    "                    for n in range(N):\n",
    "                        pnorm[i,j,k,l,m,n] = p[i,j,k,l,m,n]/sumprob"
   ]
  },
  {
   "cell_type": "code",
   "execution_count": 17,
   "metadata": {},
   "outputs": [
    {
     "name": "stdout",
     "output_type": "stream",
     "text": [
      "[[0.00629071 0.00404403]\n",
      " [0.00179735 0.00404403]]\n"
     ]
    }
   ],
   "source": [
    "print(pnorm[:,:,1,1,1,1])"
   ]
  },
  {
   "cell_type": "code",
   "execution_count": 18,
   "metadata": {},
   "outputs": [
    {
     "name": "stdout",
     "output_type": "stream",
     "text": [
      "[0.19027450425655987, 8]\n"
     ]
    }
   ],
   "source": [
    "[C, I] = np.max(pnorm.flatten(order='F')), np.argmax(pnorm.flatten(order='F'))\n",
    "print([C, I])"
   ]
  },
  {
   "cell_type": "code",
   "execution_count": 19,
   "metadata": {},
   "outputs": [
    {
     "name": "stdout",
     "output_type": "stream",
     "text": [
      "[0, 0, 0, 1, 0, 0]\n"
     ]
    }
   ],
   "source": [
    "[I1, I2, I3, I4, I5, I6] = np.unravel_index(I, pnorm.shape, 'F')\n",
    "DP_index = [I1, I2, I3, I4, I5, I6]\n",
    "print(DP_index)"
   ]
  },
  {
   "cell_type": "code",
   "execution_count": 20,
   "metadata": {},
   "outputs": [
    {
     "name": "stdout",
     "output_type": "stream",
     "text": [
      "0.0002370815999999999\n"
     ]
    }
   ],
   "source": [
    "DP_maximal_probability = pnorm[I1, I2, I3, I4, I5, I6]*sumprob\n",
    "print(DP_maximal_probability)"
   ]
  },
  {
   "cell_type": "code",
   "execution_count": 21,
   "metadata": {},
   "outputs": [
    {
     "name": "stdout",
     "output_type": "stream",
     "text": [
      "0.19027450425655987\n"
     ]
    }
   ],
   "source": [
    "DP_normalized_maximal_probability = pnorm[I1, I2, I3, I4, I5, I6]\n",
    "print(DP_normalized_maximal_probability)"
   ]
  },
  {
   "cell_type": "markdown",
   "metadata": {},
   "source": [
    "## b. HMM Solution"
   ]
  },
  {
   "cell_type": "code",
   "execution_count": 22,
   "metadata": {},
   "outputs": [
    {
     "name": "stdout",
     "output_type": "stream",
     "text": [
      "[[0. 0.]\n",
      " [0. 0.]\n",
      " [0. 0.]\n",
      " [0. 0.]\n",
      " [0. 0.]\n",
      " [1. 1.]]\n"
     ]
    }
   ],
   "source": [
    "# initialization\n",
    "beta = np.zeros((T, N))\n",
    "for i in range(N):\n",
    "    beta[T-1, i] = 1\n",
    "print(beta)"
   ]
  },
  {
   "cell_type": "code",
   "execution_count": 23,
   "metadata": {},
   "outputs": [
    {
     "name": "stdout",
     "output_type": "stream",
     "text": [
      "[[0.00365153 0.00308026]\n",
      " [0.01055701 0.00772852]\n",
      " [0.026771   0.039572  ]\n",
      " [0.1397     0.0944    ]\n",
      " [0.37       0.34      ]\n",
      " [1.         1.        ]]\n"
     ]
    }
   ],
   "source": [
    "# induction\n",
    "for t in range(T-2, -1, -1):\n",
    "    for i in range(N):\n",
    "        for j in range(N):\n",
    "            beta[t, i] = beta[t,i]+A[i,j]*B[j, O[t+1]-1]*beta[t+1,j]\n",
    "print(beta)"
   ]
  },
  {
   "cell_type": "code",
   "execution_count": 24,
   "metadata": {},
   "outputs": [
    {
     "name": "stdout",
     "output_type": "stream",
     "text": [
      "[[0.70334567 0.29665433]\n",
      " [0.7320444  0.2679556 ]\n",
      " [0.83535985 0.16464015]\n",
      " [0.32839202 0.67160798]\n",
      " [0.83088729 0.16911271]\n",
      " [0.70836202 0.29163798]]\n"
     ]
    }
   ],
   "source": [
    "# gamma\n",
    "gamma = np.zeros((T, N), dtype=float)\n",
    "for t in range(T):\n",
    "    for i in range(N):\n",
    "        gamma[t, i] = alpha[t, i]*beta[t, i]/prob\n",
    "print(gamma)"
   ]
  },
  {
   "cell_type": "code",
   "execution_count": 25,
   "metadata": {},
   "outputs": [
    {
     "name": "stdout",
     "output_type": "stream",
     "text": [
      "[0, 0, 0, 1, 0, 0]\n"
     ]
    }
   ],
   "source": [
    "result = []\n",
    "for i in gamma:\n",
    "    result.append(np.argmax(i))\n",
    "print(result)"
   ]
  },
  {
   "cell_type": "code",
   "execution_count": 27,
   "metadata": {},
   "outputs": [
    {
     "name": "stdout",
     "output_type": "stream",
     "text": [
      "[[0.1339778  0.1339778 ]\n",
      " [0.08232007 0.08232007]\n",
      " [0.53021683 0.14139115]\n",
      " [0.02397708 0.14513562]\n",
      " [0.20210772 0.08953026]]\n"
     ]
    }
   ],
   "source": [
    "di_gamma = np.zeros((T-1, N, N))\n",
    "for t in range(T-1):\n",
    "    for i in range(N):\n",
    "        for j in range(N):\n",
    "            di_gamma[t,i,j] = (alpha[t,i]*A[i,j]*B[j,O[t+1]-1]*beta[t+1,j])/prob\n",
    "print(di_gamma[:,:,1])"
   ]
  },
  {
   "cell_type": "code",
   "execution_count": null,
   "metadata": {},
   "outputs": [],
   "source": []
  }
 ],
 "metadata": {
  "kernelspec": {
   "display_name": "Python 3",
   "language": "python",
   "name": "python3"
  },
  "language_info": {
   "codemirror_mode": {
    "name": "ipython",
    "version": 3
   },
   "file_extension": ".py",
   "mimetype": "text/x-python",
   "name": "python",
   "nbconvert_exporter": "python",
   "pygments_lexer": "ipython3",
   "version": "3.6.5"
  }
 },
 "nbformat": 4,
 "nbformat_minor": 2
}
